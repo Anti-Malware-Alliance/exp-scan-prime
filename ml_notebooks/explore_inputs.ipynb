{
 "cells": [
  {
   "cell_type": "code",
   "execution_count": 24,
   "metadata": {},
   "outputs": [],
   "source": [
    "import pandas as pd\n",
    "from sklearn.model_selection import train_test_split\n",
    "from sklearn.ensemble import RandomForestClassifier\n",
    "from sklearn.metrics import classification_report, accuracy_score, f1_score, confusion_matrix, roc_curve, auc\n",
    "from sklearn.preprocessing import LabelEncoder, MultiLabelBinarizer\n",
    "import matplotlib.pyplot as plt\n",
    "import seaborn as sns\n",
    "\n",
    "from pprint import pprint\n",
    "from collections import Counter\n",
    "import re"
   ]
  },
  {
   "cell_type": "code",
   "execution_count": null,
   "metadata": {},
   "outputs": [],
   "source": [
    "# Load the DataFrame from the Parquet file\n",
    "input_file = 'filtered_dataset.parquet'#\n",
    "df = pd.read_parquet(input_file)\n",
    "\n",
    "# Display the first few rows of the DataFrame\n",
    "df.info()\n"
   ]
  },
  {
   "cell_type": "code",
   "execution_count": null,
   "metadata": {},
   "outputs": [],
   "source": [
    "disposition_counts = df['disposition'].value_counts()\n",
    "\n",
    "# Plot a pie chart\n",
    "plt.figure(figsize=(6, 6))\n",
    "plt.pie(disposition_counts, labels=disposition_counts.index, autopct='%1.1f%%', startangle=90, colors=['lightcoral', 'lightskyblue'])\n",
    "\n",
    "# Add a title\n",
    "plt.title('Disposition Distribution')\n",
    "\n",
    "# Equal aspect ratio ensures that pie is drawn as a circle\n",
    "plt.axis('equal')\n",
    "\n",
    "# Display the chart\n",
    "plt.show()"
   ]
  },
  {
   "cell_type": "code",
   "execution_count": null,
   "metadata": {},
   "outputs": [],
   "source": [
    "features = ['import_MSCOREE.DLL']\n",
    "i=1\n",
    "\n",
    "for feature in features:\n",
    "    plt.figure(figsize=(10, 6))\n",
    "    \n",
    "    # Malware distribution\n",
    "    ax1 = plt.subplot(1, 2, 1)\n",
    "    sns.histplot(df[df['disposition'] == 1][feature], ax=ax1, kde=True, kde_kws={'bw_adjust': 0.1})\n",
    "    ax1.set_title(f'{feature} - Malware', fontsize=10)\n",
    "    \n",
    "    # Not Malware distribution\n",
    "    ax2 = plt.subplot(1, 2, 2)\n",
    "    sns.histplot(df[df['disposition'] == 0][feature], ax=ax2, kde=True, kde_kws={'bw_adjust': 0.1})\n",
    "    ax2.set_title(f'{feature} - Not Malware', fontsize=10)\n",
    "    \n",
    "    # Increase spacing between the subplots\n",
    "    plt.tight_layout()\n",
    "    plt.show()"
   ]
  },
  {
   "cell_type": "code",
   "execution_count": null,
   "metadata": {},
   "outputs": [],
   "source": []
  }
 ],
 "metadata": {
  "kernelspec": {
   "display_name": "Python 3",
   "language": "python",
   "name": "python3"
  },
  "language_info": {
   "codemirror_mode": {
    "name": "ipython",
    "version": 3
   },
   "file_extension": ".py",
   "mimetype": "text/x-python",
   "name": "python",
   "nbconvert_exporter": "python",
   "pygments_lexer": "ipython3",
   "version": "3.12.3"
  }
 },
 "nbformat": 4,
 "nbformat_minor": 2
}

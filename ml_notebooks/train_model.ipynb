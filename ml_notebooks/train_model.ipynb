{
 "cells": [
  {
   "cell_type": "code",
   "execution_count": 46,
   "metadata": {},
   "outputs": [],
   "source": [
    "import pandas as pd\n",
    "import matplotlib.pyplot as plt\n",
    "import seaborn as sns\n",
    "import joblib\n",
    "import skl2onnx\n",
    "\n",
    "from sklearn.model_selection import train_test_split\n",
    "from sklearn.ensemble import RandomForestClassifier\n",
    "from sklearn.metrics import classification_report, accuracy_score, f1_score, confusion_matrix, roc_curve, auc\n",
    "from sklearn.preprocessing import LabelEncoder, MultiLabelBinarizer\n",
    "from pprint import pprint\n",
    "from collections import Counter\n",
    "from datetime import datetime\n",
    "\n",
    "from skl2onnx import convert_sklearn\n",
    "from skl2onnx.common.data_types import FloatTensorType"
   ]
  },
  {
   "cell_type": "code",
   "execution_count": null,
   "metadata": {},
   "outputs": [],
   "source": [
    "# Load the DataFrame from the Parquet file\n",
    "input_file = 'filtered_dataset.parquet'#\n",
    "df = pd.read_parquet(input_file)\n",
    "\n",
    "# Display the first few rows of the DataFrame\n",
    "df.info()\n"
   ]
  },
  {
   "cell_type": "code",
   "execution_count": 48,
   "metadata": {},
   "outputs": [],
   "source": [
    "# Step 1: Count occurrences of each item in the lists\n",
    "all_imports = [item for sublist in df['import_directory_list'] for item in sublist]\n",
    "item_counts = Counter(all_imports)\n",
    "\n",
    "top_items = [item for item, count in item_counts.most_common(200)]\n",
    "df['filtered_imports'] = df['import_directory_list'].apply(lambda x: [item for item in x if item in top_items])\n",
    "\n",
    "# Step 4: One-Hot Encode the filtered lists\n",
    "mlb = MultiLabelBinarizer()\n",
    "one_hot_encoded = mlb.fit_transform(df['filtered_imports'])\n",
    "\n",
    "# Step 5: Create a DataFrame with meaningful column names\n",
    "one_hot_df = pd.DataFrame(one_hot_encoded, columns=[f'import_{item}' for item in mlb.classes_])\n",
    "\n",
    "# Step 6: Concatenate with the original DataFrame\n",
    "final_df = pd.concat([df, one_hot_df], axis=1)\n",
    "df = final_df\n"
   ]
  },
  {
   "cell_type": "code",
   "execution_count": null,
   "metadata": {},
   "outputs": [],
   "source": [
    "# Feature selection - Drop columns that won't be used in model\n",
    "# 'file_name' may not be helpful, and 'dll_characteristics' has missing values.\n",
    "drop_columns = ['file_name', 'timestamp', 'table_pointer',\n",
    "                'address_of_entry_point', 'base_of_code', \n",
    "                'image_base', 'checksum_validation',\n",
    "                'dll_characteristics', 'import_directory','architecture',\n",
    "                'machine_type', 'file_characteristics', 'magic_number', \n",
    "                'subsystem', 'import_directory_list', 'filtered_imports']\n",
    "\n",
    "df = df.drop(columns=drop_columns)\n",
    "df.info()\n"
   ]
  },
  {
   "cell_type": "code",
   "execution_count": null,
   "metadata": {},
   "outputs": [],
   "source": [
    "mute_feature_columns = ['section_alignment', 'os_version', 'subsystem_version']\n",
    "\n",
    "df = df.drop(columns=mute_feature_columns)\n",
    "df.info()\n"
   ]
  },
  {
   "cell_type": "code",
   "execution_count": null,
   "metadata": {},
   "outputs": [],
   "source": [
    "\n",
    "# Step 1: Convert the 'disposition' column into numerical labels (0 for 'goodware', 1 for 'malware')\n",
    "df['disposition'] = df['disposition'].map({'goodware': 0, 'malware': 1})\n",
    "\n",
    "# Step 2: Define X (features) and y (target)\n",
    "X = df.drop(columns=['disposition'])\n",
    "  # Drop the target and any non-relevant columns\n",
    "y = df['disposition']\n",
    "\n",
    "# Step 3: Split the data into training and testing sets\n",
    "X_train, X_test, y_train, y_test = train_test_split(X, y, test_size=0.3, random_state=42)\n",
    "\n",
    "# Step 4: Train the RandomForestClassifier\n",
    "clf = RandomForestClassifier(n_estimators=1000, random_state=42)\n",
    "clf.fit(X_train, y_train)\n",
    "\n",
    "# Step 5: Make predictions\n",
    "y_pred = clf.predict(X_test)\n",
    "\n",
    "# Step 6: Evaluate the model (F1-score and classification report)\n",
    "f1 = f1_score(y_test, y_pred)\n",
    "print(f\"F1 Score: {f1:.2f}\")\n",
    "\n",
    "# Classification report for precision, recall, f1-score\n",
    "print(\"Classification Report:\")\n",
    "print(classification_report(y_test, y_pred))\n",
    "\n"
   ]
  },
  {
   "cell_type": "code",
   "execution_count": null,
   "metadata": {},
   "outputs": [],
   "source": []
  },
  {
   "cell_type": "code",
   "execution_count": null,
   "metadata": {},
   "outputs": [],
   "source": [
    "# Classification report for precision, recall, f1-score\n",
    "print(\"Classification Report:\")\n",
    "print(classification_report(y_test, y_pred))\n",
    "\n",
    "# Step 7: Analyze feature importance\n",
    "feature_importances = pd.Series(clf.feature_importances_, index=X.columns)\n",
    "feature_importances = feature_importances.sort_values(ascending=False)\n",
    "\n",
    "# Plot the top 10 most important features\n",
    "plt.figure(figsize=(20, 12))\n",
    "sns.barplot(x=feature_importances[:40], y=[label.upper() for label in feature_importances.index[:40]])\n",
    "plt.title('Top 20 Feature Importances')\n",
    "plt.xlabel('Importance Score')\n",
    "plt.ylabel('Features')\n",
    "plt.show()\n",
    "\n",
    "pprint(feature_importances)\n"
   ]
  },
  {
   "cell_type": "code",
   "execution_count": null,
   "metadata": {},
   "outputs": [],
   "source": [
    "# Assuming `clf` is your trained model\n",
    "today_date = datetime.today().strftime('%Y%m%d')\n",
    "print(f\"Date {today_date}\")\n",
    "model_path = f'malware_random_forest_{today_date}.joblib'\n",
    "joblib.dump(clf, model_path)\n",
    "\n",
    "print(f\"Model saved to {model_path}\")"
   ]
  },
  {
   "cell_type": "code",
   "execution_count": 54,
   "metadata": {},
   "outputs": [],
   "source": [
    "# Load your trained model (assuming it's a RandomForestClassifier here)\n",
    "clf = joblib.load(model_path)\n",
    "\n",
    "# Define the input shape (e.g., for a model with 10 features)\n",
    "initial_type = [('float_input', FloatTensorType([None, 10]))]\n",
    "\n",
    "# Convert the model to ONNX format\n",
    "onnx_model = convert_sklearn(clf, initial_types=initial_type)\n",
    "\n",
    "# Save the model to an .onnx file\n",
    "onnx_path = f'malware_random_forest_{today_date}.onnx'\n",
    "with open(onnx_path, \"wb\") as f:\n",
    "    f.write(onnx_model.SerializeToString())"
   ]
  }
 ],
 "metadata": {
  "kernelspec": {
   "display_name": "Python 3",
   "language": "python",
   "name": "python3"
  },
  "language_info": {
   "codemirror_mode": {
    "name": "ipython",
    "version": 3
   },
   "file_extension": ".py",
   "mimetype": "text/x-python",
   "name": "python",
   "nbconvert_exporter": "python",
   "pygments_lexer": "ipython3",
   "version": "3.12.3"
  }
 },
 "nbformat": 4,
 "nbformat_minor": 2
}
